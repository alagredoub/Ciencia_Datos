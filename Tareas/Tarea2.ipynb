{
 "cells": [
  {
   "cell_type": "markdown",
   "id": "0fa3e79b-01f6-40b8-8e02-3b7af003efe6",
   "metadata": {},
   "source": [
    "# Solución Tarea 2: Funciones"
   ]
  },
  {
   "cell_type": "markdown",
   "id": "56ad1f12-3a50-42ea-8027-f7c0a062e18e",
   "metadata": {},
   "source": [
    "Por: Ana Lucia Agredo"
   ]
  },
  {
   "cell_type": "markdown",
   "id": "0dffbfbe-c62d-4b90-9c99-7dd15864597d",
   "metadata": {},
   "source": [
    "1. Escriba una función  que reciba la fecha de nacimiento de una persona y calcule la edad de la persona\n"
   ]
  },
  {
   "cell_type": "code",
   "execution_count": 1,
   "id": "f7db3c04-50d5-4964-b485-f20f413d19d5",
   "metadata": {},
   "outputs": [
    {
     "name": "stdout",
     "output_type": "stream",
     "text": [
      "Por favor ingrese la fecha de nacimiento: d-m-aaaa \n"
     ]
    },
    {
     "name": "stdin",
     "output_type": "stream",
     "text": [
      " 1-1-2000\n"
     ]
    },
    {
     "data": {
      "text/plain": [
       "'la edad es: 22'"
      ]
     },
     "execution_count": 1,
     "metadata": {},
     "output_type": "execute_result"
    }
   ],
   "source": [
    "from datetime import datetime\n",
    "\n",
    "def Edad():\n",
    "    print(\"Por favor ingrese la fecha de nacimiento: d-m-aaaa \")\n",
    "    fecha= input()\n",
    "    hoy = datetime.today()\n",
    "    x = datetime.strptime(fecha, '%d-%m-%Y' )\n",
    "    d=hoy - x\n",
    "    y=d.days/365\n",
    "    return 'la edad es: ' + str(int(y))\n",
    "\n",
    "Edad()\n"
   ]
  },
  {
   "cell_type": "markdown",
   "id": "e4295c8b-4184-4721-b601-ffa4a3dfb896",
   "metadata": {},
   "source": [
    "2. Crea una función EscribirCentrado, que reciba como parámetro un texto y lo escriba centrado en pantalla (suponiendo una anchura de 80 columnas; pista: deberás escribir 40 - longitud/2 espacios antes del texto).  "
   ]
  },
  {
   "cell_type": "code",
   "execution_count": 2,
   "id": "95e217a2-816d-48b6-afff-0ca62650305f",
   "metadata": {},
   "outputs": [
    {
     "name": "stdout",
     "output_type": "stream",
     "text": [
      "Por favor ingrese un texto:\n"
     ]
    },
    {
     "name": "stdin",
     "output_type": "stream",
     "text": [
      " Lorem Ipsum\n"
     ]
    },
    {
     "data": {
      "text/plain": [
       "'                                  Lorem Ipsum'"
      ]
     },
     "execution_count": 2,
     "metadata": {},
     "output_type": "execute_result"
    }
   ],
   "source": [
    "\n",
    "def EscribirCentrado():\n",
    "    print(\"Por favor ingrese un texto:\")\n",
    "    texto = input()\n",
    "    longitud = len(texto)\n",
    "    n= 40 - longitud/2\n",
    "    \n",
    "    return int(n)*' ' + texto\n",
    "\n",
    "EscribirCentrado()\n"
   ]
  },
  {
   "cell_type": "markdown",
   "id": "0214d466-4a61-459c-90ff-ba6eb40e55c8",
   "metadata": {},
   "source": [
    "3. Construya una función decorada que reciba un texto y lo escriba marcado con Markdown en itálica y resaltada (bold). Revise la lección de decoradores, no vista en clase."
   ]
  },
  {
   "cell_type": "code",
   "execution_count": 3,
   "id": "c90224ba-54e8-4439-acad-48e541a71cb1",
   "metadata": {},
   "outputs": [
    {
     "name": "stdout",
     "output_type": "stream",
     "text": [
      "***Lorem ipsum dolor sit amet, consectetur adipiscing elit***\n"
     ]
    }
   ],
   "source": [
    "def bold_and_italic(fn):\n",
    "    def b_and_i():\n",
    "        return '***'+fn()+'***'\n",
    "    return b_and_i\n",
    "\n",
    "@bold_and_italic\n",
    "def mi_texto():\n",
    "    return 'Lorem ipsum dolor sit amet, consectetur adipiscing elit'\n",
    "\n",
    "print(mi_texto())"
   ]
  },
  {
   "cell_type": "markdown",
   "id": "c945b51c-cfb8-4b1a-93d4-b51ed0b26418",
   "metadata": {},
   "source": [
    "4.  Crea un programa que pida dos número enteros al usuario y diga si alguno de ellos es múltiplo del otro. "
   ]
  },
  {
   "cell_type": "code",
   "execution_count": 4,
   "id": "373630a9-0153-4700-bf32-a5f31e077dbc",
   "metadata": {},
   "outputs": [
    {
     "name": "stdout",
     "output_type": "stream",
     "text": [
      "Por favor ingrese un número entero: \n"
     ]
    },
    {
     "name": "stdin",
     "output_type": "stream",
     "text": [
      " 12\n"
     ]
    },
    {
     "name": "stdout",
     "output_type": "stream",
     "text": [
      "Por favor ingrese otro número entero: \n"
     ]
    },
    {
     "name": "stdin",
     "output_type": "stream",
     "text": [
      " 144\n"
     ]
    },
    {
     "data": {
      "text/plain": [
       "'144 es multiplo de 12'"
      ]
     },
     "execution_count": 4,
     "metadata": {},
     "output_type": "execute_result"
    }
   ],
   "source": [
    "\n",
    "def multiplos():\n",
    "    print('Por favor ingrese un número entero: ')\n",
    "    a=int(input())\n",
    "    print('Por favor ingrese otro número entero: ')\n",
    "    b=int(input())\n",
    "    \n",
    "    if (a%b==0):\n",
    "        return str(a)+' es multiplo de '+str(b)\n",
    "    elif (b%a==0):\n",
    "        return str(b)+' es multiplo de '+str(a)        \n",
    "    else:\n",
    "        return 'los numeros no son multiplos entre sí'\n",
    "    \n",
    "    \n",
    "multiplos()"
   ]
  },
  {
   "cell_type": "markdown",
   "id": "881409d8-23fd-4e1e-8bbf-e7b58b4c3729",
   "metadata": {},
   "source": [
    "5. Crear una función que reciba una lista  de 24 valores de temperatura leída  hora en un día y que calcule la temperatura media  Cree una lista con 24 valores de temperatura de un día de Bogotá y pruebe su función. Invente los datos.\n"
   ]
  },
  {
   "cell_type": "code",
   "execution_count": 5,
   "id": "20ef3bda-6e5d-40c0-a37a-0dfc2ab0abcc",
   "metadata": {},
   "outputs": [
    {
     "data": {
      "text/plain": [
       "12.579166666666667"
      ]
     },
     "execution_count": 5,
     "metadata": {},
     "output_type": "execute_result"
    }
   ],
   "source": [
    "def T_Media(List):\n",
    "    sum=0\n",
    "    for i in List:\n",
    "        sum = sum + i\n",
    "    return sum/24\n",
    "\n",
    "lista = [10.2, 9.9, 9.6, 9.3, 9.6, 10, 10.3, 12.4, 14.6, 16.7,\n",
    "         16.6, 16.5, 16.4, 16, 15.5, 15.1, 14.1, 13, 12, 11.6, 11.2, 10.8, 10.4, 10.1]\n",
    "T_Media(lista)"
   ]
  },
  {
   "cell_type": "markdown",
   "id": "98abcfff-ad5e-4c76-8bfc-43576be4e09e",
   "metadata": {},
   "source": [
    "\n",
    "5. Crea un función “ConvertirEspaciado”, que reciba como parámetro un texto y devuelve una cadena con un espacio adicional tras cada letra. Por ejemplo, “Hola, tú” devolverá “H o l a , t ú “.  Pruebe "
   ]
  },
  {
   "cell_type": "code",
   "execution_count": 4,
   "id": "cc33a6af-e510-4d2f-a509-b4fb9edbd35d",
   "metadata": {},
   "outputs": [
    {
     "data": {
      "text/plain": [
       "'H o l a , t ú '"
      ]
     },
     "execution_count": 4,
     "metadata": {},
     "output_type": "execute_result"
    }
   ],
   "source": [
    "def ConvertirEspaciado (text:str):\n",
    "    ch= ''\n",
    "    for i in text:\n",
    "        if (i.isalpha()):\n",
    "            ch= ch + i + ' '\n",
    "        else:\n",
    "            ch= ch + i\n",
    "    return ch\n",
    "\n",
    "texto = 'Hola, tú'\n",
    "ConvertirEspaciado(texto)"
   ]
  },
  {
   "cell_type": "markdown",
   "id": "f4b3e345-50a8-4b01-82de-5ea76dc2a33f",
   "metadata": {},
   "source": [
    "\n",
    "6. Crea una función “calcularMaxMin” que recibe una arreglo con valores numérico y devuelve el valor máximo y el mínimo."
   ]
  },
  {
   "cell_type": "code",
   "execution_count": 5,
   "id": "a648fbae-d388-4da5-aede-c7db965e9a68",
   "metadata": {},
   "outputs": [
    {
     "data": {
      "text/plain": [
       "'El valor máximo es: 4676 y el valor minimo es: 3'"
      ]
     },
     "execution_count": 5,
     "metadata": {},
     "output_type": "execute_result"
    }
   ],
   "source": [
    "import numpy as np\n",
    "\n",
    "def calcularMaxMin(arreglo):\n",
    "    Max=np.amax(arreglo)\n",
    "    Min=np.amin(arreglo)\n",
    "    return 'El valor máximo es: ' + str(Max)+ ' y el valor minimo es: '+ str(Min)\n",
    "\n",
    "arr= [2332,356,456,46,676,3,4544,56,46,4676,454]\n",
    "calcularMaxMin(arr)\n"
   ]
  },
  {
   "cell_type": "markdown",
   "id": "4f039c15-dfa2-4540-a101-805604dfbf55",
   "metadata": {},
   "source": [
    "\n",
    "7.  Diseñar una función que calcule el área y el perímetro de una circunferencia. \n"
   ]
  },
  {
   "cell_type": "code",
   "execution_count": 6,
   "id": "3c0f6d39-3960-4b8d-a353-da390de9ac2b",
   "metadata": {},
   "outputs": [
    {
     "data": {
      "text/plain": [
       "'perímetro: 56.548667764616276, área: 254.46900494077323'"
      ]
     },
     "execution_count": 6,
     "metadata": {},
     "output_type": "execute_result"
    }
   ],
   "source": [
    "import numpy as np\n",
    "\n",
    "def Circunf(radio):\n",
    "    perimetro = 2*np.pi*radio\n",
    "    area = np.pi*radio*radio\n",
    "    return \"perímetro: {}, área: {}\".format(perimetro, area)\n",
    "   \n",
    "Circunf(9)"
   ]
  },
  {
   "cell_type": "markdown",
   "id": "f59e24fe-78f1-4add-bc08-6e7c588a32ce",
   "metadata": {},
   "source": [
    " \n",
    "8. Crear una función  llamada “Login”, que recibe un nombre de usuario y una contraseña y devuelva Verdadero si el nombre de usuario es “usuario1” y la contraseña es “asdasd”. Además recibe el número de intentos que se ha intentado hacer login y si no se ha podido hacer login incremente este valor."
   ]
  },
  {
   "cell_type": "code",
   "execution_count": 7,
   "id": "7b8b7aa8-9ec6-4679-be12-b9b0f9cef3fe",
   "metadata": {},
   "outputs": [
    {
     "name": "stdout",
     "output_type": "stream",
     "text": [
      "verdadero\n"
     ]
    }
   ],
   "source": [
    "\n",
    "def Login(usuario, passwd, count=0):\n",
    "    if (usuario=='usuario1') and (passwd=='asdasd'):\n",
    "        print('verdadero')\n",
    "    else:\n",
    "        count= count+1\n",
    "        print('Usuario o contraseña incorrecto, lleva', count, 'intentos')\n",
    "      \n",
    "Login('usuario1', 'asdasd')\n",
    "    "
   ]
  },
  {
   "cell_type": "markdown",
   "id": "1a9da9c9-1427-4eca-b0c1-3153135837b2",
   "metadata": {},
   "source": [
    "\n",
    "9. Crear una función recursiva que permita calcular el factorial de un número. Realiza un programa principal donde se lea un entero y se muestre el resultado del factorial. Revise la lección de funciones.\n"
   ]
  },
  {
   "cell_type": "code",
   "execution_count": 9,
   "id": "97120302-d739-435d-905a-e0e1ae4988bd",
   "metadata": {},
   "outputs": [
    {
     "data": {
      "text/plain": [
       "362880"
      ]
     },
     "execution_count": 9,
     "metadata": {},
     "output_type": "execute_result"
    }
   ],
   "source": [
    "#entero positivo\n",
    "def factorial(n: int):\n",
    "    if n>0:\n",
    "        fact = n*factorial(n-1)\n",
    "    elif n==0:\n",
    "        fact=1\n",
    "    else:\n",
    "        fact='Error: factorial solo esta definido para enteros positivos'\n",
    "    return fact\n",
    "        \n",
    "factorial(9)"
   ]
  },
  {
   "cell_type": "markdown",
   "id": "d30776c7-b373-4923-b377-a3b03789c68b",
   "metadata": {},
   "source": [
    "10. Escribir dos funciones que permitan calcular:\n",
    "\n",
    "    La cantidad de segundos en un tiempo dado en horas, minutos y segundos.\n",
    "    La cantidad de horas, minutos y segundos de un tiempo dado en segundos\n",
    "\n"
   ]
  },
  {
   "cell_type": "code",
   "execution_count": 10,
   "id": "9c46b25a-dddb-4e6e-a708-dfea79473c4c",
   "metadata": {},
   "outputs": [
    {
     "name": "stdout",
     "output_type": "stream",
     "text": [
      "3600\n",
      "86400\n",
      "1.0\n"
     ]
    }
   ],
   "source": [
    "def to_sec(horas): \n",
    "    secs = horas*60*60\n",
    "    return secs\n",
    "\n",
    "def to_hours(segundos):\n",
    "    hours = segundos/3600\n",
    "    return hours\n",
    "\n",
    "print (to_sec(1))\n",
    "print (to_sec(24))\n",
    "print (to_hours(3600))"
   ]
  },
  {
   "cell_type": "markdown",
   "id": "01484ab8-f1b4-48f6-a125-309a1c373e9a",
   "metadata": {},
   "source": [
    "11. Crea una función  que lea una tupla, invierta los valores de la tupla y regrese una nueva tupla invirtiendo los valores. Recuerde que las tuplas son inmutables.\n"
   ]
  },
  {
   "cell_type": "code",
   "execution_count": 11,
   "id": "48aab5a6-8ed2-4cdb-8bf2-3d130b497b89",
   "metadata": {},
   "outputs": [
    {
     "data": {
      "text/plain": [
       "(5, 4, 3, 2, 1)"
      ]
     },
     "execution_count": 11,
     "metadata": {},
     "output_type": "execute_result"
    }
   ],
   "source": [
    "def invertir(tupla: tuple):\n",
    "    list=[]\n",
    "    l=len(tupla)\n",
    "    for i in range(l):\n",
    "        list.append(tupla[l-i-1])\n",
    "    return tuple(list)\n",
    "        \n",
    "invertir((1,2,3,4,5))"
   ]
  },
  {
   "cell_type": "markdown",
   "id": "7ab55e45-c48a-440f-a30c-f8d53dcf5d92",
   "metadata": {},
   "source": [
    "12. Escriba una función que lea una lista y calcule la media geométrica de sus valores, usando funtools.reduce."
   ]
  },
  {
   "cell_type": "code",
   "execution_count": 12,
   "id": "05ba122a-fc23-46dd-8644-5a22410409d8",
   "metadata": {},
   "outputs": [
    {
     "data": {
      "text/plain": [
       "51.4473633202934"
      ]
     },
     "execution_count": 12,
     "metadata": {},
     "output_type": "execute_result"
    }
   ],
   "source": [
    "import functools\n",
    "\n",
    "def media_geo(l:list):\n",
    "    n=len(l)\n",
    "    prod=functools.reduce(lambda x, y: x*y,l)\n",
    "    m=prod**(1/n)\n",
    "    return m\n",
    "\n",
    "lista=[56,67,23,89,45,80,34,79,34]\n",
    "media_geo(lista)"
   ]
  },
  {
   "cell_type": "code",
   "execution_count": null,
   "id": "8af3dd03-7544-4abf-81a4-8aabe0fa6c71",
   "metadata": {},
   "outputs": [],
   "source": []
  },
  {
   "cell_type": "code",
   "execution_count": null,
   "id": "39178bfa-543f-433c-8a09-2135fc00eee6",
   "metadata": {},
   "outputs": [],
   "source": []
  }
 ],
 "metadata": {
  "kernelspec": {
   "display_name": "Python 3 (ipykernel)",
   "language": "python",
   "name": "python3"
  },
  "language_info": {
   "codemirror_mode": {
    "name": "ipython",
    "version": 3
   },
   "file_extension": ".py",
   "mimetype": "text/x-python",
   "name": "python",
   "nbconvert_exporter": "python",
   "pygments_lexer": "ipython3",
   "version": "3.11.0"
  }
 },
 "nbformat": 4,
 "nbformat_minor": 5
}
